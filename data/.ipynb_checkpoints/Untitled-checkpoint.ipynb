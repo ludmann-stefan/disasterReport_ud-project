{
 "cells": [
  {
   "cell_type": "code",
   "execution_count": 1,
   "metadata": {},
   "outputs": [],
   "source": [
    "# import libraries\n",
    "\n",
    "import numpy as np\n",
    "import pandas as pd\n",
    "import csv\n",
    "from sqlalchemy import create_engine\n",
    "import sqlite3"
   ]
  },
  {
   "cell_type": "code",
   "execution_count": 6,
   "metadata": {},
   "outputs": [],
   "source": [
    "messages = pd.read_csv ('messages.csv', dialect = 'excel')\n",
    "\n",
    "categories = pd.read_csv ('categories.csv', dialect = 'excel')"
   ]
  },
  {
   "cell_type": "code",
   "execution_count": 257,
   "metadata": {},
   "outputs": [],
   "source": [
    "cat_split = data['categories'].str.split (';', expand = True)\n",
    "i = 0\n",
    "del cat3\n",
    "cat3 = categories\n",
    "\n",
    "while i < cat_split.shape[1]:\n",
    "    cat_split2 = cat_split[i].str.split ('-', expand = True)\n",
    "    category = cat_split2 [0].iloc [1]\n",
    "    cat = str('_cat')\n",
    "    cat_split2.rename(columns= {1: category + cat}, inplace = True)\n",
    "    cat3 = cat3.merge (cat_split2[(category + cat)].astype(int), left_index = True, right_index = True)\n",
    "    i += 1"
   ]
  },
  {
   "cell_type": "code",
   "execution_count": 109,
   "metadata": {},
   "outputs": [
    {
     "name": "stderr",
     "output_type": "stream",
     "text": [
      "[nltk_data] Downloading package punkt to\n",
      "[nltk_data]     /Users/stefanludmann/nltk_data...\n",
      "[nltk_data]   Package punkt is already up-to-date!\n",
      "[nltk_data] Downloading package stopwords to\n",
      "[nltk_data]     /Users/stefanludmann/nltk_data...\n",
      "[nltk_data]   Package stopwords is already up-to-date!\n",
      "[nltk_data] Downloading package wordnet to\n",
      "[nltk_data]     /Users/stefanludmann/nltk_data...\n",
      "[nltk_data]   Package wordnet is already up-to-date!\n"
     ]
    },
    {
     "data": {
      "text/plain": [
       "True"
      ]
     },
     "execution_count": 109,
     "metadata": {},
     "output_type": "execute_result"
    }
   ],
   "source": [
    "import nltk\n",
    "from nltk.stem.wordnet import WordNetLemmatizer\n",
    "from nltk.tokenize import word_tokenize, TweetTokenizer\n",
    "from nltk.stem.porter import PorterStemmer\n",
    "from nltk.stem.wordnet import WordNetLemmatizer\n",
    "from nltk.corpus import stopwords \n",
    "\n",
    "nltk.download ('punkt')\n",
    "nltk.download ('stopwords')\n",
    "nltk.download ('wordnet')"
   ]
  },
  {
   "cell_type": "code",
   "execution_count": 118,
   "metadata": {},
   "outputs": [],
   "source": [
    "tknzr = TweetTokenizer ()\n",
    "import re\n",
    "\n",
    "def tokenize (tweet):\n",
    "    tweet = re.sub(r\"[^a-zA-Z0-9?#-]\", \" \", tweet.lower())\n",
    "    tweet = tknzr.tokenize(tweet)\n",
    "    tweet = [word for word in tweet if word not in stopwords.words('english')]\n",
    "    tweet = [WordNetLemmatizer().lemmatize (a) for a in tweet]\n",
    "    tweet = [PorterStemmer().stem (a) for a in tweet]\n",
    "    return tweet"
   ]
  },
  {
   "cell_type": "code",
   "execution_count": null,
   "metadata": {},
   "outputs": [],
   "source": [
    "categories_names = ['related_cat',\n",
    " 'request_cat', 'offer_cat', 'aid_related_cat',\n",
    " 'medical_help_cat', 'medical_products_cat',\n",
    " 'search_and_rescue_cat', 'security_cat',\n",
    " 'military_cat', 'child_alone_cat',\n",
    " 'water_cat', 'food_cat', 'shelter_cat',\n",
    " 'clothing_cat', 'money_cat', 'missing_people_cat',\n",
    " 'refugees_cat', 'death_cat', 'other_aid_cat',\n",
    " 'infrastructure_related_cat', 'transport_cat',\n",
    " 'buildings_cat', 'electricity_cat', 'tools_cat',\n",
    " 'hospitals_cat', 'shops_cat', 'aid_centers_cat',\n",
    " 'other_infrastructure_cat', 'weather_related_cat',\n",
    " 'floods_cat', 'storm_cat', 'fire_cat',\n",
    " 'earthquake_cat', 'cold_cat',\n",
    " 'other_weather_cat', 'direct_report_cat']\n",
    "\n",
    "cols_extra = ['id_x', 'categories', 'index']\n",
    "\n",
    "cols_dropping = categories_names + cols_extra"
   ]
  },
  {
   "cell_type": "code",
   "execution_count": null,
   "metadata": {},
   "outputs": [
    {
     "name": "stdout",
     "output_type": "stream",
     "text": [
      "status  98.9  %                      55.2  %                     25.2  %                     %                     %                      %                    \r"
     ]
    }
   ],
   "source": [
    "# Anzahl der Teilungen: 5\n",
    "t = 10\n",
    "a = 0\n",
    "data = []\n",
    "\n",
    "while a < t:\n",
    "    i = 0\n",
    "    start = a * round (messages.shape[0]/t)\n",
    "    end = round (messages.shape[0]/t) + start\n",
    "    del data\n",
    "    data = []\n",
    "\n",
    "    del tweets\n",
    "    tweets = []\n",
    "    tweets = pd.DataFrame (tweets)\n",
    "    while i < end:\n",
    "        tweettoken = pd.DataFrame(pd.get_dummies(tokenize (messages['message'].iloc[i])).sum (axis = 0)).T\n",
    "        tweets = tweets.append (tweettoken, sort = False).fillna(0)\n",
    "        i += 1\n",
    "        print (\"status \", \"%.1f\"  % ((i) /end *100), \" %                    \", end= \"\\r\")\n",
    "\n",
    "    tweets = tweets.reset_index()\n",
    "    data = cat3[start:end].merge (tweets, left_index = True, right_index = True)\n",
    "    del tweets\n",
    "    \n",
    "    \n",
    "    # aussortieren von Worten mit geringer Bedeutung\n",
    "    checklist = list((data.drop(cols_dropping, axis = 1).sum (axis = 0)[data.drop(cols_dropping, axis = 1).sum (axis = 0) > 20]).index)\n",
    "    check_matrix = pd.DataFrame(data[categories_names].sum()).T\n",
    "    for wort in checklist:\n",
    "        check_vector = pd.DataFrame(data[data[wort]==1][categories_names].sum()/data[wort].sum (axis =0)*100).rename(columns = {0: wort}).T\n",
    "        check_matrix = check_matrix.append (check_vector)\n",
    "        \n",
    "    drop_upper = (check_matrix.drop ('related_cat', axis = 1).drop (0, axis = 0).max(axis = 1)[check_matrix.drop ('related_cat', axis = 1).drop (0, axis = 0).max(axis = 1)<50]).index\n",
    "    drop_lower = list((data.drop(cols_dropping, axis = 1).sum (axis = 0)[data.drop(cols_dropping, axis = 1).sum (axis = 0) < 2]).index)\n",
    "    dropping = list (drop_lower) + list(drop_upper)\n",
    "    \n",
    "    name = str('data_set') + str(a) +str('.csv')\n",
    "    data = data.drop (dropping, axis = 1)\n",
    "    data.to_csv (name)\n",
    "    del checklist, drop_upper, drop_lower, dropping, check_matrix\n",
    "    a += 1"
   ]
  },
  {
   "cell_type": "code",
   "execution_count": null,
   "metadata": {},
   "outputs": [],
   "source": []
  }
 ],
 "metadata": {
  "kernelspec": {
   "display_name": "Python 3",
   "language": "python",
   "name": "python3"
  },
  "language_info": {
   "codemirror_mode": {
    "name": "ipython",
    "version": 3
   },
   "file_extension": ".py",
   "mimetype": "text/x-python",
   "name": "python",
   "nbconvert_exporter": "python",
   "pygments_lexer": "ipython3",
   "version": "3.7.6"
  }
 },
 "nbformat": 4,
 "nbformat_minor": 4
}
